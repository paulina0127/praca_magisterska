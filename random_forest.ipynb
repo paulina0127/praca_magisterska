{
 "cells": [
  {
   "cell_type": "code",
   "execution_count": 2,
   "metadata": {},
   "outputs": [],
   "source": [
    "from ucimlrepo import fetch_ucirepo\n",
    "import pandas as pd\n",
    "from sklearn.model_selection import train_test_split\n",
    "from sklearn.ensemble import RandomForestClassifier\n",
    "from sklearn.metrics import (\n",
    "    accuracy_score,\n",
    "    precision_score,\n",
    "    recall_score,\n",
    "    f1_score,\n",
    ")\n",
    "from sklearn.model_selection import GridSearchCV\n",
    "import json\n",
    "from collections import Counter"
   ]
  },
  {
   "cell_type": "markdown",
   "metadata": {},
   "source": [
    "# Model Losowego Lasu (Random Forest)"
   ]
  },
  {
   "cell_type": "markdown",
   "metadata": {},
   "source": [
    "## Zestaw danych"
   ]
  },
  {
   "cell_type": "code",
   "execution_count": 3,
   "metadata": {},
   "outputs": [],
   "source": [
    "try:\n",
    "    dataset = fetch_ucirepo(id=519)\n",
    "    features = dataset.data.features[[\"age\", \"serum_creatinine\", \"ejection_fraction\"]]\n",
    "    target = dataset.data.targets\n",
    "except Exception as e:\n",
    "    df = pd.read_csv(\"heart_failure_clinical_records_dataset.csv\")\n",
    "    df.columns = [col.lower() if col == \"DEATH_EVENT\" else col for col in df.columns]\n",
    "    features = df[[\"age\", \"serum_creatinine\", \"ejection_fraction\"]]\n",
    "    target = df[\"death_event\"]\n",
    "\n",
    "\n",
    "df = pd.concat([features, target], axis=1)"
   ]
  },
  {
   "cell_type": "code",
   "execution_count": 3,
   "metadata": {},
   "outputs": [
    {
     "name": "stdout",
     "output_type": "stream",
     "text": [
      "Liczba żywych: 203 (67.89%)\n",
      "Liczba zmarłych: 96 (32.11%)\n"
     ]
    }
   ],
   "source": [
    "counts = target.value_counts()\n",
    "total = len(target)\n",
    "\n",
    "for label, count in counts.items():\n",
    "    percent = (count / total) * 100\n",
    "    print(f\"Liczba {'zmarłych' if label == (1,) else 'żywych'}: {count} ({percent:.2f}%)\")"
   ]
  },
  {
   "cell_type": "markdown",
   "metadata": {},
   "source": [
    "## Wstępne przetwarzanie danych"
   ]
  },
  {
   "cell_type": "markdown",
   "metadata": {},
   "source": [
    "Random Forest nie wymaga skalowania danych, więc przetwarzanie danych zostaje pominięte."
   ]
  },
  {
   "cell_type": "markdown",
   "metadata": {},
   "source": [
    "## Zastosowanie modelu"
   ]
  },
  {
   "cell_type": "code",
   "execution_count": 4,
   "metadata": {},
   "outputs": [],
   "source": [
    "X = df[[\"age\", \"serum_creatinine\", \"ejection_fraction\"]]\n",
    "y = df[\"death_event\"]"
   ]
  },
  {
   "cell_type": "code",
   "execution_count": 5,
   "metadata": {},
   "outputs": [
    {
     "data": {
      "text/html": [
       "<div>\n",
       "<style scoped>\n",
       "    .dataframe tbody tr th:only-of-type {\n",
       "        vertical-align: middle;\n",
       "    }\n",
       "\n",
       "    .dataframe tbody tr th {\n",
       "        vertical-align: top;\n",
       "    }\n",
       "\n",
       "    .dataframe thead th {\n",
       "        text-align: right;\n",
       "    }\n",
       "</style>\n",
       "<table border=\"1\" class=\"dataframe\">\n",
       "  <thead>\n",
       "    <tr style=\"text-align: right;\">\n",
       "      <th></th>\n",
       "      <th>iteration</th>\n",
       "      <th>accuracy</th>\n",
       "      <th>precision</th>\n",
       "      <th>recall</th>\n",
       "      <th>f1_score</th>\n",
       "    </tr>\n",
       "  </thead>\n",
       "  <tbody>\n",
       "    <tr>\n",
       "      <th>0</th>\n",
       "      <td>0</td>\n",
       "      <td>0.766667</td>\n",
       "      <td>0.640000</td>\n",
       "      <td>0.571429</td>\n",
       "      <td>0.603774</td>\n",
       "    </tr>\n",
       "    <tr>\n",
       "      <th>1</th>\n",
       "      <td>1</td>\n",
       "      <td>0.800000</td>\n",
       "      <td>0.681818</td>\n",
       "      <td>0.576923</td>\n",
       "      <td>0.625000</td>\n",
       "    </tr>\n",
       "    <tr>\n",
       "      <th>2</th>\n",
       "      <td>2</td>\n",
       "      <td>0.811111</td>\n",
       "      <td>0.620690</td>\n",
       "      <td>0.750000</td>\n",
       "      <td>0.679245</td>\n",
       "    </tr>\n",
       "    <tr>\n",
       "      <th>3</th>\n",
       "      <td>3</td>\n",
       "      <td>0.777778</td>\n",
       "      <td>0.655172</td>\n",
       "      <td>0.655172</td>\n",
       "      <td>0.655172</td>\n",
       "    </tr>\n",
       "    <tr>\n",
       "      <th>4</th>\n",
       "      <td>4</td>\n",
       "      <td>0.711111</td>\n",
       "      <td>0.450000</td>\n",
       "      <td>0.375000</td>\n",
       "      <td>0.409091</td>\n",
       "    </tr>\n",
       "    <tr>\n",
       "      <th>...</th>\n",
       "      <td>...</td>\n",
       "      <td>...</td>\n",
       "      <td>...</td>\n",
       "      <td>...</td>\n",
       "      <td>...</td>\n",
       "    </tr>\n",
       "    <tr>\n",
       "      <th>95</th>\n",
       "      <td>95</td>\n",
       "      <td>0.744444</td>\n",
       "      <td>0.650000</td>\n",
       "      <td>0.448276</td>\n",
       "      <td>0.530612</td>\n",
       "    </tr>\n",
       "    <tr>\n",
       "      <th>96</th>\n",
       "      <td>96</td>\n",
       "      <td>0.833333</td>\n",
       "      <td>0.739130</td>\n",
       "      <td>0.653846</td>\n",
       "      <td>0.693878</td>\n",
       "    </tr>\n",
       "    <tr>\n",
       "      <th>97</th>\n",
       "      <td>97</td>\n",
       "      <td>0.722222</td>\n",
       "      <td>0.605263</td>\n",
       "      <td>0.696970</td>\n",
       "      <td>0.647887</td>\n",
       "    </tr>\n",
       "    <tr>\n",
       "      <th>98</th>\n",
       "      <td>98</td>\n",
       "      <td>0.788889</td>\n",
       "      <td>0.652174</td>\n",
       "      <td>0.576923</td>\n",
       "      <td>0.612245</td>\n",
       "    </tr>\n",
       "    <tr>\n",
       "      <th>99</th>\n",
       "      <td>99</td>\n",
       "      <td>0.755556</td>\n",
       "      <td>0.647059</td>\n",
       "      <td>0.687500</td>\n",
       "      <td>0.666667</td>\n",
       "    </tr>\n",
       "  </tbody>\n",
       "</table>\n",
       "<p>100 rows × 5 columns</p>\n",
       "</div>"
      ],
      "text/plain": [
       "    iteration  accuracy  precision    recall  f1_score\n",
       "0           0  0.766667   0.640000  0.571429  0.603774\n",
       "1           1  0.800000   0.681818  0.576923  0.625000\n",
       "2           2  0.811111   0.620690  0.750000  0.679245\n",
       "3           3  0.777778   0.655172  0.655172  0.655172\n",
       "4           4  0.711111   0.450000  0.375000  0.409091\n",
       "..        ...       ...        ...       ...       ...\n",
       "95         95  0.744444   0.650000  0.448276  0.530612\n",
       "96         96  0.833333   0.739130  0.653846  0.693878\n",
       "97         97  0.722222   0.605263  0.696970  0.647887\n",
       "98         98  0.788889   0.652174  0.576923  0.612245\n",
       "99         99  0.755556   0.647059  0.687500  0.666667\n",
       "\n",
       "[100 rows x 5 columns]"
      ]
     },
     "execution_count": 5,
     "metadata": {},
     "output_type": "execute_result"
    }
   ],
   "source": [
    "results = []\n",
    "\n",
    "for i in range(100):\n",
    "    # Podział danych na zbiór treningowy i testowy z random_state = iteracja, aby za każdym razem podział był inny\n",
    "    X_train, X_test, y_train, y_test = train_test_split(\n",
    "        X, y, test_size=0.3, random_state=i\n",
    "    )\n",
    "\n",
    "    # Tworzenie modelu lasu losowego\n",
    "    model = RandomForestClassifier()\n",
    "\n",
    "    model.fit(X_train, y_train)\n",
    "\n",
    "    y_pred = model.predict(X_test)\n",
    "\n",
    "    # Obliczanie metryk\n",
    "    accuracy = accuracy_score(y_test, y_pred)\n",
    "    precision = precision_score(y_test, y_pred)\n",
    "    recall = recall_score(y_test, y_pred)\n",
    "    f1 = f1_score(y_test, y_pred)\n",
    "\n",
    "    results.append(\n",
    "        {\n",
    "            \"iteration\": i,\n",
    "            \"accuracy\": accuracy,\n",
    "            \"precision\": precision,\n",
    "            \"recall\": recall,\n",
    "            \"f1_score\": f1,\n",
    "        }\n",
    "    )\n",
    "\n",
    "results_df = pd.DataFrame(results)\n",
    "\n",
    "results_df"
   ]
  },
  {
   "cell_type": "markdown",
   "metadata": {},
   "source": [
    "#### Ewaluacja modelu"
   ]
  },
  {
   "cell_type": "code",
   "execution_count": 6,
   "metadata": {},
   "outputs": [
    {
     "data": {
      "text/html": [
       "<div>\n",
       "<style scoped>\n",
       "    .dataframe tbody tr th:only-of-type {\n",
       "        vertical-align: middle;\n",
       "    }\n",
       "\n",
       "    .dataframe tbody tr th {\n",
       "        vertical-align: top;\n",
       "    }\n",
       "\n",
       "    .dataframe thead th {\n",
       "        text-align: right;\n",
       "    }\n",
       "</style>\n",
       "<table border=\"1\" class=\"dataframe\">\n",
       "  <thead>\n",
       "    <tr style=\"text-align: right;\">\n",
       "      <th></th>\n",
       "      <th>min</th>\n",
       "      <th>max</th>\n",
       "      <th>mean</th>\n",
       "    </tr>\n",
       "  </thead>\n",
       "  <tbody>\n",
       "    <tr>\n",
       "      <th>accuracy</th>\n",
       "      <td>0.63</td>\n",
       "      <td>0.88</td>\n",
       "      <td>0.76</td>\n",
       "    </tr>\n",
       "    <tr>\n",
       "      <th>precision</th>\n",
       "      <td>0.41</td>\n",
       "      <td>0.85</td>\n",
       "      <td>0.63</td>\n",
       "    </tr>\n",
       "    <tr>\n",
       "      <th>recall</th>\n",
       "      <td>0.38</td>\n",
       "      <td>0.81</td>\n",
       "      <td>0.57</td>\n",
       "    </tr>\n",
       "    <tr>\n",
       "      <th>f1_score</th>\n",
       "      <td>0.41</td>\n",
       "      <td>0.76</td>\n",
       "      <td>0.60</td>\n",
       "    </tr>\n",
       "  </tbody>\n",
       "</table>\n",
       "</div>"
      ],
      "text/plain": [
       "            min   max  mean\n",
       "accuracy   0.63  0.88  0.76\n",
       "precision  0.41  0.85  0.63\n",
       "recall     0.38  0.81  0.57\n",
       "f1_score   0.41  0.76  0.60"
      ]
     },
     "execution_count": 6,
     "metadata": {},
     "output_type": "execute_result"
    }
   ],
   "source": [
    "stats_results = results_df.aggregate([\"min\", \"max\", \"mean\"]).round(2)\n",
    "stats_results = stats_results.drop(columns=[\"iteration\"])\n",
    "stats_results.transpose()"
   ]
  },
  {
   "cell_type": "markdown",
   "metadata": {},
   "source": [
    "#### Optymalizacja modelu"
   ]
  },
  {
   "cell_type": "markdown",
   "metadata": {},
   "source": [
    "- Wyszukiwanie najlepszych parametrów z GridSearch"
   ]
  },
  {
   "cell_type": "markdown",
   "metadata": {},
   "source": [
    "Metoda GridSearchCV jest jedną z popularnych technik optymalizacji modeli regresji logistycznej, automatyzującą wyszukiwanie najlepszych hiperparametrów, takich jak siła i typ regularyzacji. Poprawia wydajność modelu poprzez użycie walidacji krzyżowej, zapewniając solidność i możliwość uogólnienia na nowe dane."
   ]
  },
  {
   "cell_type": "markdown",
   "metadata": {},
   "source": [
    "`Testowane parametry:`\n",
    "- n_estimators (liczba drzew w lesie): domyślnie wynosi 100, ale zwiększenie tej wartości może poprawić wyniki (kosztem czasu obliczeń)\n",
    "- max_depth (głębokość drzewa): ograniczenie głębokości drzewa, aby uniknąć przeuczenia\n",
    "- max_features (liczba cech do podziału): ograniczenie liczby cech branych pod uwagę przy każdym podziale zmniejsza ryzyko przeuczenia\n",
    "- min_samples_leaf (minimalna liczba próbek w węźle liścia) i min_samples_split (minimalna liczba próbek do podziału węzła): zwiększenie tych wartości sprawia, że model staje się mniej podatny na przeuczenie\n",
    "- class_weight: parametr ten pozwala przypisać różne wagi klasom w celu zrównoważenia ich wpływu na model. Jest szczególnie przydatny, gdy mamy nierównomierny rozkład klas (np. jedna klasa występuje dużo częściej niż druga)"
   ]
  },
  {
   "cell_type": "code",
   "execution_count": null,
   "metadata": {},
   "outputs": [],
   "source": [
    "results_list = []\n",
    "\n",
    "for i in range(100):\n",
    "    # Podział danych na zbiór treningowy i testowy z random_state = iteracja, aby za każdym razem podział był inny\n",
    "    X_train, X_test, y_train, y_test = train_test_split(\n",
    "        X, y, test_size=0.3, random_state=i\n",
    "    )\n",
    "\n",
    "    # Tworzenie modelu lasu losowego\n",
    "    model = RandomForestClassifier()\n",
    "\n",
    "    param_grid = {\n",
    "        \"n_estimators\": [50, 75, 100],\n",
    "        \"max_depth\": [None, 10, 20],\n",
    "        \"min_samples_split\": [2, 5, 10],\n",
    "        \"min_samples_leaf\": [1, 2, 4],\n",
    "        \"max_features\": [\"sqrt\", \"log2\"],\n",
    "        \"class_weight\": [\n",
    "            \"balanced\",\n",
    "            \"balanced_subsample\",\n",
    "        ],\n",
    "    }\n",
    "\n",
    "    grid_search = GridSearchCV(\n",
    "        estimator=model,\n",
    "        param_grid=param_grid,\n",
    "        cv=5,\n",
    "        n_jobs=-1,\n",
    "        scoring=\"recall\",\n",
    "    )\n",
    "\n",
    "    grid_search.fit(X_train, y_train)\n",
    "\n",
    "    # Obliczanie metryk\n",
    "    accuracy = accuracy_score(y_test, y_pred)\n",
    "    precision = precision_score(y_test, y_pred)\n",
    "    recall = recall_score(y_test, y_pred)\n",
    "    f1 = f1_score(y_test, y_pred)\n",
    "\n",
    "    results_list.append({\"best_params\": grid_search.best_params_})\n",
    "\n",
    "results_gs = pd.DataFrame(results_list)"
   ]
  },
  {
   "cell_type": "code",
   "execution_count": 13,
   "metadata": {},
   "outputs": [
    {
     "name": "stdout",
     "output_type": "stream",
     "text": [
      "Najczęściej występujące najlepsze parametry:\n",
      "Parametry: {\"class_weight\": \"balanced\", \"max_depth\": null, \"max_features\": \"sqrt\", \"min_samples_leaf\": 4, \"min_samples_split\": 10, \"n_estimators\": 100} - Wystąpienia: 4\n",
      "Parametry: {\"class_weight\": \"balanced\", \"max_depth\": null, \"max_features\": \"log2\", \"min_samples_leaf\": 4, \"min_samples_split\": 10, \"n_estimators\": 75} - Wystąpienia: 4\n",
      "Parametry: {\"class_weight\": \"balanced\", \"max_depth\": 10, \"max_features\": \"sqrt\", \"min_samples_leaf\": 4, \"min_samples_split\": 10, \"n_estimators\": 50} - Wystąpienia: 4\n"
     ]
    }
   ],
   "source": [
    "best_params_list = [json.dumps(result[\"best_params\"]) for result in results_list]\n",
    "\n",
    "counter = Counter(best_params_list)\n",
    "\n",
    "# Sortowanie wyników od najczęstszych do najmniej częstych\n",
    "sorted_results = sorted(counter.items(), key=lambda x: x[1], reverse=True)\n",
    "\n",
    "print(\"Najczęściej występujące najlepsze parametry:\")\n",
    "for params, count in sorted_results[:3]:\n",
    "    print(f\"Parametry: {params} - Wystąpienia: {count}\")"
   ]
  },
  {
   "cell_type": "code",
   "execution_count": 5,
   "metadata": {},
   "outputs": [
    {
     "data": {
      "text/html": [
       "<div>\n",
       "<style scoped>\n",
       "    .dataframe tbody tr th:only-of-type {\n",
       "        vertical-align: middle;\n",
       "    }\n",
       "\n",
       "    .dataframe tbody tr th {\n",
       "        vertical-align: top;\n",
       "    }\n",
       "\n",
       "    .dataframe thead th {\n",
       "        text-align: right;\n",
       "    }\n",
       "</style>\n",
       "<table border=\"1\" class=\"dataframe\">\n",
       "  <thead>\n",
       "    <tr style=\"text-align: right;\">\n",
       "      <th></th>\n",
       "      <th>min</th>\n",
       "      <th>max</th>\n",
       "      <th>mean</th>\n",
       "    </tr>\n",
       "  </thead>\n",
       "  <tbody>\n",
       "    <tr>\n",
       "      <th>accuracy</th>\n",
       "      <td>0.67</td>\n",
       "      <td>0.90</td>\n",
       "      <td>0.77</td>\n",
       "    </tr>\n",
       "    <tr>\n",
       "      <th>precision</th>\n",
       "      <td>0.44</td>\n",
       "      <td>0.81</td>\n",
       "      <td>0.61</td>\n",
       "    </tr>\n",
       "    <tr>\n",
       "      <th>recall</th>\n",
       "      <td>0.50</td>\n",
       "      <td>0.87</td>\n",
       "      <td>0.72</td>\n",
       "    </tr>\n",
       "    <tr>\n",
       "      <th>f1_score</th>\n",
       "      <td>0.50</td>\n",
       "      <td>0.82</td>\n",
       "      <td>0.66</td>\n",
       "    </tr>\n",
       "  </tbody>\n",
       "</table>\n",
       "</div>"
      ],
      "text/plain": [
       "            min   max  mean\n",
       "accuracy   0.67  0.90  0.77\n",
       "precision  0.44  0.81  0.61\n",
       "recall     0.50  0.87  0.72\n",
       "f1_score   0.50  0.82  0.66"
      ]
     },
     "execution_count": 5,
     "metadata": {},
     "output_type": "execute_result"
    }
   ],
   "source": [
    "results = []\n",
    "\n",
    "for i in range(100):\n",
    "    # Podział danych na zbiór treningowy i testowy z random_state = iteracja, aby za każdym razem podział był inny\n",
    "    X_train, X_test, y_train, y_test = train_test_split(\n",
    "        X, y, test_size=0.3, random_state=i\n",
    "    )\n",
    "\n",
    "    # Tworzenie modelu lasu losowego\n",
    "    model = RandomForestClassifier(class_weight=\"balanced\", max_depth=10, max_features=\"sqrt\", min_samples_leaf=4, min_samples_split=10, n_estimators=50)\n",
    "\n",
    "    model.fit(X_train, y_train)\n",
    "\n",
    "    y_pred = model.predict(X_test)\n",
    "\n",
    "    # Obliczanie metryk\n",
    "    accuracy = accuracy_score(y_test, y_pred)\n",
    "    precision = precision_score(y_test, y_pred)\n",
    "    recall = recall_score(y_test, y_pred)\n",
    "    f1 = f1_score(y_test, y_pred)\n",
    "\n",
    "    results.append(\n",
    "        {\n",
    "            \"iteration\": i,\n",
    "            \"accuracy\": accuracy,\n",
    "            \"precision\": precision,\n",
    "            \"recall\": recall,\n",
    "            \"f1_score\": f1,\n",
    "        }\n",
    "    )\n",
    "\n",
    "results_df = pd.DataFrame(results)\n",
    "\n",
    "stats_results = results_df.aggregate([\"min\", \"max\", \"mean\"]).round(2)\n",
    "stats_results = stats_results.drop(columns=[\"iteration\"])\n",
    "stats_results.transpose()"
   ]
  }
 ],
 "metadata": {
  "kernelspec": {
   "display_name": "Python 3",
   "language": "python",
   "name": "python3"
  },
  "language_info": {
   "codemirror_mode": {
    "name": "ipython",
    "version": 3
   },
   "file_extension": ".py",
   "mimetype": "text/x-python",
   "name": "python",
   "nbconvert_exporter": "python",
   "pygments_lexer": "ipython3",
   "version": "3.12.7"
  }
 },
 "nbformat": 4,
 "nbformat_minor": 2
}
